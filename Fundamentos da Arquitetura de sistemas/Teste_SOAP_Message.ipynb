{
  "nbformat": 4,
  "nbformat_minor": 0,
  "metadata": {
    "colab": {
      "name": "Teste_SOAP_Message",
      "provenance": []
    },
    "kernelspec": {
      "name": "python3",
      "display_name": "Python 3"
    },
    "language_info": {
      "name": "python"
    }
  },
  "cells": [
    {
      "cell_type": "code",
      "metadata": {
        "colab": {
          "base_uri": "https://localhost:8080/"
        },
        "id": "Vy3Euuu29j0Y",
        "outputId": "230fac4f-2491-43b5-f601-63004f4651ff"
      },
      "source": [
        "pip install zeep\n"
      ],
      "execution_count": 2,
      "outputs": [
        {
          "output_type": "stream",
          "text": [
            "Collecting zeep\n",
            "\u001b[?25l  Downloading https://files.pythonhosted.org/packages/e5/8c/b14cbe8562e582786dbd86487c041827cb2a4dafcaf832c035878e94651f/zeep-4.0.0-py2.py3-none-any.whl (100kB)\n",
            "\r\u001b[K     |███▎                            | 10kB 14.2MB/s eta 0:00:01\r\u001b[K     |██████▌                         | 20kB 20.3MB/s eta 0:00:01\r\u001b[K     |█████████▉                      | 30kB 14.8MB/s eta 0:00:01\r\u001b[K     |█████████████                   | 40kB 10.6MB/s eta 0:00:01\r\u001b[K     |████████████████▍               | 51kB 5.2MB/s eta 0:00:01\r\u001b[K     |███████████████████▋            | 61kB 5.5MB/s eta 0:00:01\r\u001b[K     |███████████████████████         | 71kB 5.9MB/s eta 0:00:01\r\u001b[K     |██████████████████████████▏     | 81kB 6.0MB/s eta 0:00:01\r\u001b[K     |█████████████████████████████▍  | 92kB 6.0MB/s eta 0:00:01\r\u001b[K     |████████████████████████████████| 102kB 4.2MB/s \n",
            "\u001b[?25hRequirement already satisfied: requests>=2.7.0 in /usr/local/lib/python3.7/dist-packages (from zeep) (2.23.0)\n",
            "Collecting requests-file>=1.5.1\n",
            "  Downloading https://files.pythonhosted.org/packages/77/86/cdb5e8eaed90796aa83a6d9f75cfbd37af553c47a291cd47bc410ef9bdb2/requests_file-1.5.1-py2.py3-none-any.whl\n",
            "Collecting requests-toolbelt>=0.7.1\n",
            "\u001b[?25l  Downloading https://files.pythonhosted.org/packages/60/ef/7681134338fc097acef8d9b2f8abe0458e4d87559c689a8c306d0957ece5/requests_toolbelt-0.9.1-py2.py3-none-any.whl (54kB)\n",
            "\u001b[K     |████████████████████████████████| 61kB 6.4MB/s \n",
            "\u001b[?25hCollecting isodate>=0.5.4\n",
            "\u001b[?25l  Downloading https://files.pythonhosted.org/packages/9b/9f/b36f7774ff5ea8e428fdcfc4bb332c39ee5b9362ddd3d40d9516a55221b2/isodate-0.6.0-py2.py3-none-any.whl (45kB)\n",
            "\u001b[K     |████████████████████████████████| 51kB 5.9MB/s \n",
            "\u001b[?25hRequirement already satisfied: defusedxml>=0.4.1 in /usr/local/lib/python3.7/dist-packages (from zeep) (0.7.1)\n",
            "Requirement already satisfied: lxml>=3.1.0 in /usr/local/lib/python3.7/dist-packages (from zeep) (4.2.6)\n",
            "Requirement already satisfied: appdirs>=1.4.0 in /usr/local/lib/python3.7/dist-packages (from zeep) (1.4.4)\n",
            "Requirement already satisfied: attrs>=17.2.0 in /usr/local/lib/python3.7/dist-packages (from zeep) (21.2.0)\n",
            "Requirement already satisfied: cached-property>=1.3.0 in /usr/local/lib/python3.7/dist-packages (from zeep) (1.5.2)\n",
            "Requirement already satisfied: pytz in /usr/local/lib/python3.7/dist-packages (from zeep) (2018.9)\n",
            "Requirement already satisfied: urllib3!=1.25.0,!=1.25.1,<1.26,>=1.21.1 in /usr/local/lib/python3.7/dist-packages (from requests>=2.7.0->zeep) (1.24.3)\n",
            "Requirement already satisfied: certifi>=2017.4.17 in /usr/local/lib/python3.7/dist-packages (from requests>=2.7.0->zeep) (2021.5.30)\n",
            "Requirement already satisfied: idna<3,>=2.5 in /usr/local/lib/python3.7/dist-packages (from requests>=2.7.0->zeep) (2.10)\n",
            "Requirement already satisfied: chardet<4,>=3.0.2 in /usr/local/lib/python3.7/dist-packages (from requests>=2.7.0->zeep) (3.0.4)\n",
            "Requirement already satisfied: six in /usr/local/lib/python3.7/dist-packages (from requests-file>=1.5.1->zeep) (1.15.0)\n",
            "Installing collected packages: requests-file, requests-toolbelt, isodate, zeep\n",
            "Successfully installed isodate-0.6.0 requests-file-1.5.1 requests-toolbelt-0.9.1 zeep-4.0.0\n"
          ],
          "name": "stdout"
        }
      ]
    },
    {
      "cell_type": "code",
      "metadata": {
        "id": "XETHfpPe97c0"
      },
      "source": [
        "from zeep import Client"
      ],
      "execution_count": 3,
      "outputs": []
    },
    {
      "cell_type": "code",
      "metadata": {
        "colab": {
          "base_uri": "https://localhost:8080/"
        },
        "id": "QWLPrpxT9-Fr",
        "outputId": "1a0441c8-c658-4a25-c7c4-11443e7dba7e"
      },
      "source": [
        "client = Client('http://www.soapclient.com/xml/soapresponder.wsdl')\n",
        "result = client.service.Method1(bstrParam1='Primeiro Soap message', bstrParam2='tchau')\n",
        "print(result)"
      ],
      "execution_count": 5,
      "outputs": [
        {
          "output_type": "stream",
          "text": [
            "Your input parameters are Primeiro Soap message and tchau\n"
          ],
          "name": "stdout"
        }
      ]
    }
  ]
}